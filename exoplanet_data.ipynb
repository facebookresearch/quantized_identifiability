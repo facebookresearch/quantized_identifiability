{
 "cells": [
  {
   "cell_type": "markdown",
   "metadata": {},
   "source": [
    "Copyright (c) Meta Platforms, Inc. and affiliates.\n",
    "All rights reserved.\n",
    "\n",
    "This source code is licensed under the license found in the\n",
    "LICENSE file in the root directory of this source tree."
   ]
  },
  {
   "cell_type": "markdown",
   "metadata": {},
   "source": [
    "- First download the Nasa Exoplanets data from: https://www.kaggle.com/datasets/adityamishraml/nasaexoplanets\n",
    "- Specifically you should have download the `cleaned_5250.csv` file which is what we load below."
   ]
  },
  {
   "cell_type": "code",
   "execution_count": null,
   "metadata": {},
   "outputs": [],
   "source": [
    "import pandas as pd\n",
    "import matplotlib.pyplot as plt\n",
    "import numpy as np\n",
    "import seaborn as sns\n",
    "sns.set_palette(\"husl\")\n",
    "import matplotlib as mpl\n",
    "import torch\n",
    "\n",
    "import os, sys\n",
    "from parzen import ParzenWindowsGaussian\n",
    "from utils import to_ndarray, parzen_plot, standardize\n"
   ]
  },
  {
   "cell_type": "code",
   "execution_count": null,
   "metadata": {},
   "outputs": [],
   "source": [
    "df = pd.read_csv('cleaned_5250.csv')"
   ]
  },
  {
   "cell_type": "code",
   "execution_count": null,
   "metadata": {},
   "outputs": [],
   "source": [
    "df"
   ]
  },
  {
   "cell_type": "markdown",
   "metadata": {},
   "source": [
    "We will use the variable `radius_multiplier`, which is the radius with respect to the planet in the column `radius_wrt` (Jupiter or Earth). So we convert the ones as a function of Jupiter to the radius multiplier with respect to the Earth. For this, we multiply them by the constant 11.2089, which is the ratio between the radius of Jupiter and the Earth."
   ]
  },
  {
   "cell_type": "code",
   "execution_count": null,
   "metadata": {},
   "outputs": [],
   "source": [
    "df['radius_wrt_earth'] = ( (df['radius_wrt']=='Jupiter').astype(float)*df['radius_multiplier']*11.2089 + (df['radius_wrt']=='Earth').astype(float)*df['radius_multiplier'] )"
   ]
  },
  {
   "cell_type": "code",
   "execution_count": null,
   "metadata": {},
   "outputs": [],
   "source": [
    "df"
   ]
  },
  {
   "cell_type": "code",
   "execution_count": null,
   "metadata": {},
   "outputs": [],
   "source": [
    "df3 = pd.DataFrame()\n",
    "df3['log_distance'] = np.log(df['distance'].values)\n",
    "df3['log_stellar_magnitude'] = np.log(df['stellar_magnitude'].values)\n",
    "df3['log_mass_multiplier'] = np.log(df['mass_multiplier'].values)\n",
    "df3['log_radius_wrt_earth'] = np.log(df['radius_wrt_earth'].values)\n",
    "df3['log_orbital_radius'] = np.log(df['orbital_radius'].values)\n",
    "df3['log_orbital_period'] = np.log(df['orbital_period'].values)\n",
    "df3['log_eccentricity'] = np.log(df['eccentricity'].values)"
   ]
  },
  {
   "cell_type": "code",
   "execution_count": null,
   "metadata": {},
   "outputs": [],
   "source": [
    "df3"
   ]
  },
  {
   "cell_type": "code",
   "execution_count": null,
   "metadata": {},
   "outputs": [],
   "source": [
    "x_y = df3[['log_stellar_magnitude', 'log_radius_wrt_earth']]\n",
    "df_filter = x_y.isin([np.nan, np.inf, -np.inf])\n",
    "# Mask df with the filter\n",
    "x_y = x_y[~df_filter]\n",
    "x_y.dropna(inplace=True)\n",
    "x_y = x_y.values\n",
    "\n",
    "x_y, _, _ = standardize(x_y)\n",
    "x_y = torch.tensor(x_y)\n"
   ]
  },
  {
   "cell_type": "code",
   "execution_count": null,
   "metadata": {},
   "outputs": [],
   "source": [
    "f, _, _ = parzen_plot(x_y, xlabel=\"Stellar magnitude\", ylabel=\"Planet radius\", levels=20, std=False, title=\"\", arrows=False, scale=50, scale_units='height', sigma=0.15, n_points=100, cbar_label=\"Magnitude of density gradient\", fontsize=16)"
   ]
  },
  {
   "cell_type": "code",
   "execution_count": null,
   "metadata": {},
   "outputs": [],
   "source": [
    "f.savefig('exo.pdf')"
   ]
  },
  {
   "cell_type": "code",
   "execution_count": null,
   "metadata": {},
   "outputs": [],
   "source": [
    "torch.corrcoef(x_y.T)[0,1]"
   ]
  },
  {
   "cell_type": "code",
   "execution_count": null,
   "metadata": {},
   "outputs": [],
   "source": []
  },
  {
   "cell_type": "code",
   "execution_count": null,
   "metadata": {},
   "outputs": [],
   "source": []
  }
 ],
 "metadata": {
  "kernelspec": {
   "display_name": "Python 3 (ipykernel)",
   "language": "python",
   "name": "python3"
  },
  "language_info": {
   "codemirror_mode": {
    "name": "ipython",
    "version": 3
   },
   "file_extension": ".py",
   "mimetype": "text/x-python",
   "name": "python",
   "nbconvert_exporter": "python",
   "pygments_lexer": "ipython3",
   "version": "3.9.18"
  }
 },
 "nbformat": 4,
 "nbformat_minor": 4
}
