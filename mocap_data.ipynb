{
 "cells": [
  {
   "cell_type": "markdown",
   "metadata": {},
   "source": [
    "Copyright (c) Meta Platforms, Inc. and affiliates.\n",
    "All rights reserved.\n",
    "\n",
    "This source code is licensed under the license found in the\n",
    "LICENSE file in the root directory of this source tree."
   ]
  },
  {
   "cell_type": "markdown",
   "metadata": {},
   "source": [
    "- Firt download the CMU Motion Capture Dataset from http://mocap.cs.cmu.edu/faqs.php\n",
    "- Specifically download the `allc3d_0.zip` file linked in that page.\n",
    "- Create directories `cmu_dataset/allc3d_0/` and move the `allc3d_0.zip` file therein. Then unzip it.\n",
    "- You should then have a directory `cmu_dataset/allc3d_0/subjects/` which is where the below code loads the data from."
   ]
  },
  {
   "cell_type": "code",
   "execution_count": null,
   "metadata": {},
   "outputs": [],
   "source": [
    "import pandas as pd\n",
    "import matplotlib.pyplot as plt\n",
    "import numpy as np\n",
    "import seaborn as sns\n",
    "sns.set_palette(\"husl\")\n",
    "import c3d\n",
    "from pathlib import Path\n",
    "\n",
    "from utils import load_activity, load_all_activities, joint_angles, estimate_plot, to_ndarray, parzen_plot, standardize\n",
    "from parzen import ParzenWindowsGaussian\n",
    "import torch"
   ]
  },
  {
   "cell_type": "code",
   "execution_count": null,
   "metadata": {},
   "outputs": [],
   "source": [
    "# path to the dataset here. I put all the files under cmu_dataset/\n",
    "BASE_DIR = Path('cmu_dataset/')\n",
    "\n",
    "datasets_df = pd.DataFrame({'path': list(BASE_DIR.glob('allc3d_0/subjects/*/*.c3d'))})\n",
    "datasets_df['Subject'] = datasets_df['path'].map(lambda x: x.parent.stem)\n",
    "datasets_df['Activity'] = datasets_df['path'].map(lambda x: x.stem.split('_')[-1].lower())"
   ]
  },
  {
   "cell_type": "code",
   "execution_count": null,
   "metadata": {},
   "outputs": [],
   "source": [
    "datasets_df"
   ]
  },
  {
   "cell_type": "code",
   "execution_count": null,
   "metadata": {},
   "outputs": [],
   "source": [
    "# hf = open(datasets_df['path'][3], 'rb')\n",
    "# reader = c3d.Reader(hf)"
   ]
  },
  {
   "cell_type": "code",
   "execution_count": null,
   "metadata": {},
   "outputs": [],
   "source": [
    "all_act = load_all_activities(datasets_df)"
   ]
  },
  {
   "cell_type": "code",
   "execution_count": null,
   "metadata": {},
   "outputs": [],
   "source": [
    "all_act"
   ]
  },
  {
   "cell_type": "code",
   "execution_count": null,
   "metadata": {},
   "outputs": [],
   "source": [
    "# drop point labels starting with * followed by numbers because we don't know what it means\n",
    "all_df = all_act[all_act['point_label'].str.startswith('*')==False]"
   ]
  },
  {
   "cell_type": "code",
   "execution_count": null,
   "metadata": {},
   "outputs": [],
   "source": [
    "all_df = all_act.copy()"
   ]
  },
  {
   "cell_type": "code",
   "execution_count": null,
   "metadata": {},
   "outputs": [],
   "source": [
    "agg_df = all_df.pivot_table(columns=\"point_label\", values=[\"x\", \"y\", \"z\", \"frame\", \"cam\", \"err\"], index=\"time\")"
   ]
  },
  {
   "cell_type": "code",
   "execution_count": null,
   "metadata": {},
   "outputs": [],
   "source": [
    "agg_df"
   ]
  },
  {
   "cell_type": "code",
   "execution_count": null,
   "metadata": {},
   "outputs": [],
   "source": [
    "flat_index = [ b+'_'+a for a,b in agg_df.columns.to_flat_index()]"
   ]
  },
  {
   "cell_type": "code",
   "execution_count": null,
   "metadata": {},
   "outputs": [],
   "source": [
    "flat_index"
   ]
  },
  {
   "cell_type": "code",
   "execution_count": null,
   "metadata": {},
   "outputs": [],
   "source": [
    "df_grouped = agg_df.copy()\n",
    "df_grouped.columns = flat_index"
   ]
  },
  {
   "cell_type": "code",
   "execution_count": null,
   "metadata": {},
   "outputs": [],
   "source": [
    "df_grouped"
   ]
  },
  {
   "cell_type": "code",
   "execution_count": null,
   "metadata": {},
   "outputs": [],
   "source": [
    "shoulders = joint_angles(df_grouped, 'RSHO', 'LSHO')"
   ]
  },
  {
   "cell_type": "code",
   "execution_count": null,
   "metadata": {},
   "outputs": [],
   "source": [
    "left_elbow = joint_angles(df_grouped, 'LELB', 'LUPA', 'LWRA')"
   ]
  },
  {
   "cell_type": "code",
   "execution_count": null,
   "metadata": {},
   "outputs": [],
   "source": [
    "straight = np.vstack((shoulders, left_elbow)).T"
   ]
  },
  {
   "cell_type": "code",
   "execution_count": null,
   "metadata": {},
   "outputs": [],
   "source": [
    "straight, _, _ = standardize(straight)"
   ]
  },
  {
   "cell_type": "code",
   "execution_count": null,
   "metadata": {},
   "outputs": [],
   "source": [
    "straight = torch.tensor(straight)"
   ]
  },
  {
   "cell_type": "code",
   "execution_count": null,
   "metadata": {},
   "outputs": [],
   "source": [
    "straight.device"
   ]
  },
  {
   "cell_type": "code",
   "execution_count": null,
   "metadata": {},
   "outputs": [],
   "source": [
    "f, _, _ = parzen_plot(straight, xlabel=\"angle(shoulder)\", ylabel=\"angle(left elbow)\", levels=20, std=False, title=\"\", arrows=False, scale_units='height', sigma=0.15, n_points=100, cbar_label=\"magnitude of density gradient\", fontsize=16)\n",
    "plt.savefig('mocap.pdf')"
   ]
  },
  {
   "cell_type": "code",
   "execution_count": null,
   "metadata": {},
   "outputs": [],
   "source": []
  }
 ],
 "metadata": {
  "kernelspec": {
   "display_name": "Python 3 (ipykernel)",
   "language": "python",
   "name": "python3"
  },
  "language_info": {
   "codemirror_mode": {
    "name": "ipython",
    "version": 3
   },
   "file_extension": ".py",
   "mimetype": "text/x-python",
   "name": "python",
   "nbconvert_exporter": "python",
   "pygments_lexer": "ipython3",
   "version": "3.9.18"
  }
 },
 "nbformat": 4,
 "nbformat_minor": 4
}
